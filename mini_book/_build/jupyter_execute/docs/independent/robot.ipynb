{
 "cells": [
  {
   "cell_type": "markdown",
   "metadata": {},
   "source": [
    "## Robot and Drone Collaboration and Automation\n",
    "\n",
    " <sub> [← Back to Porfolio](https://jmhuer.github.io/mini_book/_build/html/docs/portfolio.html)</sub>\n",
    "\n",
    "<img src=\"../../../../images/robotautonomy.jpg\" align=\"center\"/>\n",
    "\n",
    "<br>\n",
    "\n",
    " In this blog post I will explain what an SDP is and one application: how to find optimal bridge points using Python libraries: scikit, numpy, pytorch. explain what an SDP is and one application: how to find optimal bridge points using Python libraries: scikit, numpy, pytorch.\n",
    "\n",
    "<br>\n",
    "\n",
    "\n",
    "## Introduction\n",
    "---\n",
    "\n",
    "An SDP (Semidefinite Programming) is a superclass of LP (linear programming). Its called an SDP because the programs can\n",
    "\n",
    "There are many applications such as:\n",
    "\n",
    "-   Machine learning and data science\n",
    "-   Astronomy\n",
    "-   Artificial intelligence\n",
    "-   Chemistry\n",
    "-   Computational biology\n",
    "\n",
    "\n",
    "\n",
    "\n",
    "## Formal Defenition\n",
    "An SDP (Semidefinite Programming) is a superclass of LP (linear programming). Its called an SDP because the programs can, ann SDP (Semidefinite Programming) is a superclass of LP (linear programming). Its called an SDP because the programs can\n",
    "\n",
    "<br>\n",
    " <div align=\"center\">   <iframe width=\"560\" height=\"315\"\n",
    "src=\"https://www.youtube.com/embed/MUQfKFzIOeU\"\n",
    "frameborder=\"0\"\n",
    "allow=\"accelerometer; autoplay; encrypted-media; gyroscope; picture-in-picture\"\n",
    "allowfullscreen\n",
    "></iframe></div>\n",
    "\n",
    "<br>\n",
    "<br>\n",
    "\n",
    "## Numerical Example\n",
    "An SDP (Semidefinite Programming) is a superclass of LP (linear programming). Its called an SDP because the programs can, ann SDP (Semidefinite Programming) is a superclass of LP (linear programming). Its called an SDP because the programs can\n",
    "\n",
    "<br>\n",
    " <div align=\"center\">   <iframe width=\"560\" height=\"315\"\n",
    "src=\"https://www.youtube.com/embed/MUQfKFzIOeU\"\n",
    "frameborder=\"0\"\n",
    "allow=\"accelerometer; autoplay; encrypted-media; gyroscope; picture-in-picture\"\n",
    "allowfullscreen\n",
    "></iframe></div>\n",
    "\n",
    "<br>\n",
    "<br>"
   ]
  }
 ],
 "metadata": {
  "jupytext": {
   "text_representation": {
    "extension": ".md",
    "format_name": "myst"
   }
  },
  "kernelspec": {
   "display_name": "Python 3",
   "language": "python",
   "name": "python3"
  },
  "language_info": {
   "codemirror_mode": {
    "name": "ipython",
    "version": 3
   },
   "file_extension": ".py",
   "mimetype": "text/x-python",
   "name": "python",
   "nbconvert_exporter": "python",
   "pygments_lexer": "ipython3",
   "version": "3.7.9"
  },
  "source_map": [
   10
  ]
 },
 "nbformat": 4,
 "nbformat_minor": 4
}