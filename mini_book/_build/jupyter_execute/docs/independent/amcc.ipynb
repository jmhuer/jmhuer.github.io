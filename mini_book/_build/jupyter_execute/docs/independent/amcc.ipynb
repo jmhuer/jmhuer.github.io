{
 "cells": [
  {
   "cell_type": "markdown",
   "id": "322e35aa",
   "metadata": {},
   "source": [
    "## Automatic Music Composition and Completion\n",
    "\n",
    " <sub> <a href=\"https://jmhuer.github.io/mini_book/_build/html/docs/portfolio.html\" style=\"color: red; text-decoration: underline;text-decoration-style: dotted;\">← Back to Projects</a> </sub>\n",
    "\n",
    "<img src=\"../../../../images/amcc.png\" align=\"center\"/>\n",
    "\n",
    "<br>\n",
    "\n",
    "We present a new symbolic approach to automatic music generation. First we create a dataset of 62 hours of Mozart music represented by binary piano roll arrays. The dataset is used to train a 1-hidden layer neural network to predict a section of music given the surrounding music. After training we will use our model to continu- ously predict and replace random sections of existing music completely altering the original into what we consider new music.\n",
    "<br>\n",
    "\n",
    "\n",
    "## Introduction\n",
    "---\n",
    "\n",
    "In this post we are attempting to generate music that utilizes the clarity and low com- putational cost of a symbolic representation while maintaining a good variation and global structure. However unlike the usual approach to generate music we will not use any form of sequence modeling mechanism. Instead we will attempt to create a new sequence of music by altering an existing sequence of music. To accomplish this, we will train a neural network to predict a missing section of music given the surrounding music. After trining, we will use our model to predict and replace sections of existing music.\n",
    "\n",
    "\n",
    "\n",
    "## Method\n",
    "---\n",
    "\n",
    "\n",
    "The neural network will only have 1-hidden layer. This is considering that we want to condense compositional information. We are more interested in the network learning general harmonic patterns than subtle stylistic elements so we start with 1-hidden layer and proceed according to the results.\n",
    "The neural network model is an adaptation to the CBWM introduced by Mikolov et al. to the many-hot case. Notably, we will also replace the last softmax layer in the CBWM by a sigmoid layer with N outputs. This will allow us to separately predict each note on the piano roll. The input layer takes a binary vector which represents a musical section. The task is then to predict the musical section in the middle , see figure below for a visualization of the training process.\n",
    "\n",
    "\n",
    "<img src=\"../../../../images/middle.png\" align=\"center\"/>\n",
    "\n",
    "\n",
    "\n",
    "## Results\n",
    "---\n",
    "\n",
    "### Comparisons input-output\n",
    "\n",
    "<br>\n",
    " <div align=\"center\">\n",
    "  <iframe width=\"560\" height=\"315\"\n",
    "src=\"https://www.youtube.com/embed/pbd3n9pevck\"\n",
    "frameborder=\"0\"\n",
    "allow=\"accelerometer; autoplay; encrypted-media; gyroscope; picture-in-picture\"\n",
    "allowfullscreen\n",
    "></iframe></div>\n",
    "\n",
    "<br>\n",
    "<br>\n",
    "\n",
    "\n",
    "### Example 1 (Edvard Grieg)\n",
    "\n",
    "Below we show a few results. The sheet music represents the generated section at approximately at 5:09\n",
    "\n",
    "\n",
    "<img src=\"../../../../images/(1).png\" align=\"center\"/>\n",
    "\n",
    "\n",
    "**Orginal**\n",
    "\n",
    "<audio controls>\n",
    "  <source src=\"../../../../audio/2.Grieg.wav\" type=\"audio/wav\">\n",
    "Your browser does not support the audio element.\n",
    "</audio><br>\n",
    "<br>\n",
    "\n",
    "**Generated**\n",
    "\n",
    "<audio controls>\n",
    "  <source src=\"../../../../audio/2.Based_on_Grieg.wav\" type=\"audio/wav\">\n",
    "Your browser does not support the audio element.\n",
    "</audio>\n",
    "\n",
    "<br>\n",
    "<br>"
   ]
  }
 ],
 "metadata": {
  "jupytext": {
   "text_representation": {
    "extension": ".md",
    "format_name": "myst"
   }
  },
  "kernelspec": {
   "display_name": "Python 3",
   "language": "python",
   "name": "python3"
  },
  "language_info": {
   "codemirror_mode": {
    "name": "ipython",
    "version": 3
   },
   "file_extension": ".py",
   "mimetype": "text/x-python",
   "name": "python",
   "nbconvert_exporter": "python",
   "pygments_lexer": "ipython3",
   "version": "3.7.9"
  },
  "source_map": [
   10
  ]
 },
 "nbformat": 4,
 "nbformat_minor": 5
}