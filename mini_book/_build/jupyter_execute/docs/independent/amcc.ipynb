{
 "cells": [
  {
   "cell_type": "markdown",
   "metadata": {},
   "source": [
    "## Automatic Music Composition and Completion\n",
    "\n",
    " <sub> <a href=\"https://jmhuer.github.io/mini_book/_build/html/docs/portfolio.html\" style=\"color: red; text-decoration: underline;text-decoration-style: dotted;\">← Back to Projects</a> </sub>\n",
    "\n",
    "<img src=\"../../../../images/amcc.png\" align=\"center\"/>\n",
    "\n",
    "<br>\n",
    "\n",
    "We present a new symbolic approach to auto- matic music generation. First we create a dataset of 62 hours of Mozart music represented by binary piano roll arrays. The dataset is used to train a 1-hidden layer neural network to predict a section of music given the surrounding music. After training we will use our model to continu- ously predict and replace random sections of existing music completely altering the original into what we consider new music.\n",
    "<br>\n",
    "\n",
    "\n",
    "## Introduction\n",
    "---\n",
    "\n",
    "In this paper we are attempting to generate music that utilizes the clarity and low com- putational cost of a symbolic representation while maintaining a good variation and global structure. However unlike the usual approach to generate music we will not use any form of sequence modeling mechanism. Instead we will attempt to create a new sequence of music by altering an existing sequence of music. To accomplish this, we will train a neural network to predict a missing section of music given the surrounding music. After trining, we will use our model to predict and replace sections of existing music.\n",
    "\n",
    "\n",
    "\n",
    "## Method\n",
    "---\n",
    "\n",
    "\n",
    "A linear program LP is a special instance of an SDP.\n",
    "This means the LP can be written as an SDP\n",
    "\n",
    "<img src=\"../../../../images/amcc.png\" align=\"center\"/>\n",
    "\n",
    "\n",
    "\n",
    "## Results\n",
    "---\n",
    "\n",
    "Below we show a few results\n",
    "\n",
    "\n",
    "<img src=\"../../../../images/(1).png\" align=\"center\"/>\n",
    "\n",
    "\n",
    "**Orginal**\n",
    "\n",
    "<audio controls>\n",
    "  <source src=\"../../../../audio/a.wav\" type=\"audio/wav\">\n",
    "Your browser does not support the audio element.\n",
    "</audio><br>\n",
    "<br>\n",
    "\n",
    "**Generated**\n",
    "\n",
    "<audio controls>\n",
    "  <source src=\"../../../../audio/a.wav\" type=\"audio/wav\">\n",
    "Your browser does not support the audio element.\n",
    "</audio><br>\n",
    "<br>"
   ]
  }
 ],
 "metadata": {
  "jupytext": {
   "text_representation": {
    "extension": ".md",
    "format_name": "myst"
   }
  },
  "kernelspec": {
   "display_name": "Python 3",
   "language": "python",
   "name": "python3"
  },
  "language_info": {
   "codemirror_mode": {
    "name": "ipython",
    "version": 3
   },
   "file_extension": ".py",
   "mimetype": "text/x-python",
   "name": "python",
   "nbconvert_exporter": "python",
   "pygments_lexer": "ipython3",
   "version": "3.7.9"
  },
  "source_map": [
   10
  ]
 },
 "nbformat": 4,
 "nbformat_minor": 4
}