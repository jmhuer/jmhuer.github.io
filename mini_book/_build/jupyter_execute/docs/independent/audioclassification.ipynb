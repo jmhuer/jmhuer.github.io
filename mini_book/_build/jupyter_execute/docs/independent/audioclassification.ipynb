{
 "cells": [
  {
   "cell_type": "markdown",
   "metadata": {},
   "source": [
    "# Sound Activity Recognition and Annomaly detection\n",
    "\n",
    " <sub> <a href=\"https://jmhuer.github.io/mini_book/_build/html/docs/portfolio.html\" style=\"color: red; text-decoration: underline;text-decoration-style: dotted;\">← Back to Porfolio</a> </sub>\n",
    "\n",
    "<img src=\"../../../../images/audio.png\" align=\"center\"/>\n",
    "\n",
    "<br>\n",
    "\n",
    " In this blog post I will explore a few approaches and applications of sound classification. We use both a standard appraoch using spectrograms + CNNs and a more sophisticated approach using transformers on spectrogram patches.\n",
    "\n",
    "<br>\n",
    "\n",
    "\n",
    "## Laugh Detection Intensity\n",
    "---\n",
    "\n",
    "I worked directly on robotics in the\n",
    "Emerging Technologies and Innovation group at GE. First we designed a few experiences using a simple\n",
    "robot arm (Robotic xArm 6DOF). We added a camera and computer vision to allow the arm to reach\n",
    "for food items.\n",
    "\n",
    "<br>\n",
    " <div align=\"center\">   <iframe width=\"560\" height=\"315\"\n",
    "src=\"https://www.youtube.com/embed/eoMQt4muwW4\"\n",
    "frameborder=\"0\"\n",
    "allow=\"accelerometer; autoplay; encrypted-media; gyroscope; picture-in-picture\"\n",
    "allowfullscreen\n",
    "></iframe></div>\n",
    "\n",
    "<br>\n",
    "<br>\n",
    "\n",
    "## Service diagnostics using a spectrogram Tasnformers\n",
    "---\n",
    "\n",
    "In addition, we did a proof of concept with the robot arm collaborating with a drone to\n",
    "deliver small food items to a nearby user\n",
    "There are many applications such as:\n",
    "\n",
    "<br>\n",
    " <div align=\"center\">   <iframe width=\"560\" height=\"315\"\n",
    "src=\"https://www.youtube.com/embed/eoMQt4muwW4\"\n",
    "frameborder=\"0\"\n",
    "allow=\"accelerometer; autoplay; encrypted-media; gyroscope; picture-in-picture\"\n",
    "allowfullscreen\n",
    "></iframe></div>\n",
    "\n",
    "<br>\n",
    "<br>"
   ]
  }
 ],
 "metadata": {
  "jupytext": {
   "text_representation": {
    "extension": ".md",
    "format_name": "myst"
   }
  },
  "kernelspec": {
   "display_name": "Python 3",
   "language": "python",
   "name": "python3"
  },
  "language_info": {
   "codemirror_mode": {
    "name": "ipython",
    "version": 3
   },
   "file_extension": ".py",
   "mimetype": "text/x-python",
   "name": "python",
   "nbconvert_exporter": "python",
   "pygments_lexer": "ipython3",
   "version": "3.7.9"
  },
  "source_map": [
   10
  ]
 },
 "nbformat": 4,
 "nbformat_minor": 4
}