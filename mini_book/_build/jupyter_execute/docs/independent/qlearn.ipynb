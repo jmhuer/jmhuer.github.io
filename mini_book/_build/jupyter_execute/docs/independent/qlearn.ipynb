{
 "cells": [
  {
   "cell_type": "markdown",
   "metadata": {},
   "source": [
    "## Q-learning Chord Sequences with Music Theory\n",
    "\n",
    " <sub> <a href=\"https://jmhuer.github.io/mini_book/_build/html/docs/portfolio.html\" style=\"color: red; text-decoration: underline;text-decoration-style: dotted;\">← Back to Projects</a> </sub>\n",
    "\n",
    "<img src=\"../../../../images/qlearning.png\" align=\"center\"/>\n",
    "\n",
    "<br>\n",
    "\n",
    " In this blog post I will explain what an SDP is and one application: how to find optimal bridge points using Python libraries: scikit, numpy, pytorch. explain what an SDP is and one application: how to find optimal bridge points using Python libraries: scikit, numpy, pytorch.\n",
    "\n",
    "<br>\n",
    "\n",
    "\n",
    "\n",
    "## Introduction\n",
    "---\n",
    "\n",
    "An SDP (Semidefinite Programming) is a superclass of LP (linear programming). Its called an SDP because the programs can\n",
    "\n",
    "There are many applications such as:\n",
    "\n",
    "-   Machine learning and data science\n",
    "-   Astronomy\n",
    "-   Artificial intelligence\n",
    "-   Chemistry\n",
    "-   Computational biology\n",
    "\n",
    "\n",
    "\n",
    "## Problem Defenition\n",
    "\n",
    "It is clear automatically varying the complexity of music has valuable applications. But how do we approach this problem without supervision? In words, we want to add or remove notes without diverging too much from the original \"feeling\" of music. In math we write:\n",
    "> **The Problem of Varying Harmonic Information**:\n",
    ">\n",
    ">We denote Symbolic music information as piano rools where the input is information with a fixed history length $H$ as a matrix $X_t \\triangleq x_{t-H:t} \\in \\{0,1\\}^{P \\times H}$. For simplicity, we denote $\\mathcal{X} = \\{0,1\\}^{P \\times H}$ as the input space.\n",
    ">\n",
    ">Then the goal is to learn a mapping $f_\\theta(X_t; \\eta) \\rightarrow \\hat{X}_t \\in \\mathcal{X}$ parameterized by $\\theta$ such that $\\hat{X}_t$ summarizes (or further ornament) the original piece of music $X_t$, given a hyper-parameter $\\eta \\in [0,1]$ that controls the sparsity level of $\\hat{X}_t$. More specifically, we consider the following optimization:\n",
    ">\n",
    ">$$  \\min_{\\theta} \\mathcal{D}\\bigg(f_\\theta(X_t; \\eta),~X_t\\bigg) ~~\\text{s.t.}~~||f_\\theta(X_t; \\eta)||_0 \\leq \\eta HP.$$\n",
    ">\n",
    "\n",
    "\n",
    "\n",
    "## How do we solve this problem?\n",
    "\n",
    "In order to reconstruct pitch vectors with the extra criteria of maintaining theoriginal chord/harmonic functionality, we propose a combined loss of MSE onpitch vector reconstruction and Cross Entropy on symbolic chord targets. Thereconstruction should be such that we do not lose the ability to map the originalchords but the information bottleneck serves to generalize pitch functionality\n",
    "\n",
    "\n",
    "\n",
    "\n",
    "\n",
    "## Results\n",
    "\n",
    "Below we have some randomly selected examples using a validation set:"
   ]
  }
 ],
 "metadata": {
  "jupytext": {
   "text_representation": {
    "extension": ".md",
    "format_name": "myst"
   }
  },
  "kernelspec": {
   "display_name": "Python 3",
   "language": "python",
   "name": "python3"
  },
  "language_info": {
   "codemirror_mode": {
    "name": "ipython",
    "version": 3
   },
   "file_extension": ".py",
   "mimetype": "text/x-python",
   "name": "python",
   "nbconvert_exporter": "python",
   "pygments_lexer": "ipython3",
   "version": "3.7.9"
  },
  "source_map": [
   10
  ]
 },
 "nbformat": 4,
 "nbformat_minor": 4
}