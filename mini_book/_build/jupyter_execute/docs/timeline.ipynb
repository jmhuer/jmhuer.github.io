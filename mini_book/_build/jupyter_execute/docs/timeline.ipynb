{
 "cells": [
  {
   "cell_type": "markdown",
   "metadata": {},
   "source": [
    "# Home\n",
    "\n",
    "## **2020**\n",
    "\n",
    "### January\n",
    "`🤘 Started new part time masters in CS ` <br />\n",
    "**The University of Texas at Austin**<br />\n",
    "\n",
    "###  June\n",
    "`🤖 Started new position at GE appliances` <br />\n",
    "**Artificial Intelligence Engineer**<br />\n",
    "\n",
    "### March\n",
    "`👨‍💻 Started new position (contrator role) at Modis` <br />\n",
    "**Software Engineer/ Machine learning**<br />\n",
    "\n",
    "\n",
    "## **2018**\n",
    "### August\n",
    "`📈 Started new position at Applied Underwriters` <br />\n",
    "**Technical Analyst**<br />\n",
    "\n",
    "### May\n",
    "`🦁 Graduated from Columbia University` <br />\n",
    "**B.S Applied Mathematics**<br />\n",
    "\n",
    "`🧣 Graduated from St.Lawrence University` <br />\n",
    "**B.S Physics and Music (Double Major)**<br />"
   ]
  }
 ],
 "metadata": {
  "jupytext": {
   "text_representation": {
    "extension": ".md",
    "format_name": "myst"
   }
  },
  "kernelspec": {
   "display_name": "Python 3",
   "language": "python",
   "name": "python3"
  },
  "language_info": {
   "codemirror_mode": {
    "name": "ipython",
    "version": 3
   },
   "file_extension": ".py",
   "mimetype": "text/x-python",
   "name": "python",
   "nbconvert_exporter": "python",
   "pygments_lexer": "ipython3",
   "version": "3.7.9"
  },
  "source_map": [
   10
  ]
 },
 "nbformat": 4,
 "nbformat_minor": 4
}