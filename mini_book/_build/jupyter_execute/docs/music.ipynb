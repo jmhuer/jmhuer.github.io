{
 "cells": [
  {
   "cell_type": "markdown",
   "metadata": {},
   "source": [
    "# Random\n",
    "Here I keep my few music projects collected throught the years. If you are intrested in music made with artificial intelligence see [Generative Models](https://jmhuer.github.io/data-science-blog/mini_book/_build/html/docs/generative-models/index.html)\n",
    "</br>\n",
    "\n",
    "## 5edex Sucks\n",
    "\n",
    "My most recent project, hard to explain ...\n",
    "<br></br>\n",
    "<iframe width=\"100%\" height=\"450\" scrolling=\"no\" frameborder=\"no\" allow=\"autoplay\" src=\"https://w.soundcloud.com/player/?url=https%3A//api.soundcloud.com/playlists/652890546&color=%23ff5500&auto_play=false&hide_related=false&show_comments=true&show_user=true&show_reposts=false&show_teaser=true\"></iframe><div style=\"font-size: 10px; color: #cccccc;line-break: anywhere;word-break: normal;overflow: hidden;white-space: nowrap;text-overflow: ellipsis; font-family: Interstate,Lucida Grande,Lucida Sans Unicode,Lucida Sans,Garuda,Verdana,Tahoma,sans-serif;font-weight: 100;\"><a href=\"https://soundcloud.com/5edex-sucks\" title=\"5edex sucks\" target=\"_blank\" style=\"color: #cccccc; text-decoration: none;\">5edex sucks</a> · <a href=\"https://soundcloud.com/5edex-sucks/sets/juans-music\" title=\"Juan&#x27;s Music\" target=\"_blank\" style=\"color: #cccccc; text-decoration: none;\">Juan&#x27;s Music</a></div>\n",
    "</br>\n",
    "</br>\n",
    "\n",
    "--------------------------------\n",
    "\n",
    "\n",
    "## Algorithmic Music\n",
    "\n",
    "This is an example piece made using a simple algorithm that plays notes from in the english language\n",
    "<br></br>\n",
    "<iframe width=\"100%\" height=\"166\" scrolling=\"no\" frameborder=\"no\" allow=\"autoplay\" src=\"https://w.soundcloud.com/player/?url=https%3A//api.soundcloud.com/tracks/539022009&color=%23ff5500&auto_play=false&hide_related=false&show_comments=true&show_user=true&show_reposts=false&show_teaser=true\"></iframe><div style=\"font-size: 10px; color: #cccccc;line-break: anywhere;word-break: normal;overflow: hidden;white-space: nowrap;text-overflow: ellipsis; font-family: Interstate,Lucida Grande,Lucida Sans Unicode,Lucida Sans,Garuda,Verdana,Tahoma,sans-serif;font-weight: 100;\"><a href=\"https://soundcloud.com/juan-huerta-426449224\" title=\"Juan Huerta\" target=\"_blank\" style=\"color: #cccccc; text-decoration: none;\">Juan Huerta</a> · <a href=\"https://soundcloud.com/juan-huerta-426449224/the-secret-messege\" title=\"The Secret Messege\" target=\"_blank\" style=\"color: #cccccc; text-decoration: none;\">The Secret Messege</a></div>\n",
    "</br>\n",
    "</br>\n",
    "\n",
    "--------------------------------\n",
    "\n",
    "## Dumbo Sampling\n",
    "\n",
    "This is an example piece made using a simple algorithm that plays notes from in the english language\n",
    "<br></br>\n",
    "<iframe width=\"100%\" height=\"166\" scrolling=\"no\" frameborder=\"no\" allow=\"autoplay\" src=\"https://w.soundcloud.com/player/?url=https%3A//api.soundcloud.com/tracks/536618160&color=%23ff5500&auto_play=false&hide_related=false&show_comments=true&show_user=true&show_reposts=false&show_teaser=true\"></iframe><div style=\"font-size: 10px; color: #cccccc;line-break: anywhere;word-break: normal;overflow: hidden;white-space: nowrap;text-overflow: ellipsis; font-family: Interstate,Lucida Grande,Lucida Sans Unicode,Lucida Sans,Garuda,Verdana,Tahoma,sans-serif;font-weight: 100;\"><a href=\"https://soundcloud.com/juan-huerta-426449224\" title=\"Juan Huerta\" target=\"_blank\" style=\"color: #cccccc; text-decoration: none;\">Juan Huerta</a> · <a href=\"https://soundcloud.com/juan-huerta-426449224/what-an-unusual-view\" title=\"What an unusual view\" target=\"_blank\" style=\"color: #cccccc; text-decoration: none;\">What an unusual view</a></div>\n",
    "</br>\n",
    "</br>\n",
    "\n",
    "\n",
    "\n",
    "\n",
    "\n",
    "\n",
    "[![Star on GitHub](https://img.shields.io/github/stars/jonsn0w/hyde.svg?style=social)](https://github.com/jonsn0w/hyde/stargazers)\n",
    "\n",
    "[![Tweet](https://img.shields.io/twitter/url/https/github.com/jonsn0w/hyde.svg?style=social)](https://twitter.com/intent/tweet?text=Check%20out%20Hyde!%20%E2%9C%A8%20An%20accessible,%20open-source%20markdown%20editor%20for%20any%20user%20E2%9C%A8%20https://github.com/jonsn0w/hyde%20%F0%9F%A4%97)"
   ]
  }
 ],
 "metadata": {
  "jupytext": {
   "text_representation": {
    "extension": ".md",
    "format_name": "myst"
   }
  },
  "kernelspec": {
   "display_name": "Python 3",
   "language": "python",
   "name": "python3"
  },
  "language_info": {
   "codemirror_mode": {
    "name": "ipython",
    "version": 3
   },
   "file_extension": ".py",
   "mimetype": "text/x-python",
   "name": "python",
   "nbconvert_exporter": "python",
   "pygments_lexer": "ipython3",
   "version": "3.7.9"
  },
  "source_map": [
   10
  ]
 },
 "nbformat": 4,
 "nbformat_minor": 4
}