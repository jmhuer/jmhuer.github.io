{
 "cells": [
  {
   "cell_type": "markdown",
   "metadata": {},
   "source": [
    "# Music\n",
    "## Problem 1\n",
    "\n",
    "Compute the eigenvalues and eigenvectors of the matrix\n",
    "\n",
    "$\n",
    "A_1 = \\left[ \\begin{array}{cc} 1 & 0 \\\\ 0 & 2 \\end{array} \\right]\n",
    "$\n",
    "\n",
    "and show that the eigenvectors are orthogonal to each other.\n",
    "Compute the eigenvalues and eigenvectors of the matrix\n",
    "\n",
    "$\n",
    "A_2 = \\left[ \\begin{array}{cc} 1 & 1 \\\\ 0 & 2 \\end{array} \\right]\n",
    "$\n",
    "\n",
    "and show that the eigenvectors are not orthogonal to each other.\n",
    "\n",
    "Compute the eigenvalues and eigenvectors of the matrix\n",
    "\n",
    "$\n",
    "A_3 = \\left[ \\begin{array}{cccc} 4 & 11 & 11 & 12 \\\\ 11 & 13 & 14 & 10 \\\\ 11 & 14 & 16 & 16 \\\\ 12 & 12 & 16 & 18 \\end{array} \\right].\n",
    "$\n",
    "\n",
    "Is this matrix positive semidefinite? Are the eigenvectors orthogonal to each other?\n",
    "\n",
    "Repeat this with random matrices of your choosing. Note that symmetric matrices, whether positive definite or note (i.e., whether or not they have nonnegative eigenvalues) will always have eigenvectors that are perpendicular (orthogonal) to each other."
   ]
  }
 ],
 "metadata": {
  "jupytext": {
   "text_representation": {
    "extension": ".md",
    "format_name": "myst"
   }
  },
  "kernelspec": {
   "display_name": "Python 3",
   "language": "python",
   "name": "python3"
  },
  "language_info": {
   "codemirror_mode": {
    "name": "ipython",
    "version": 3
   },
   "file_extension": ".py",
   "mimetype": "text/x-python",
   "name": "python",
   "nbconvert_exporter": "python",
   "pygments_lexer": "ipython3",
   "version": "3.7.9"
  },
  "source_map": [
   10
  ]
 },
 "nbformat": 4,
 "nbformat_minor": 4
}