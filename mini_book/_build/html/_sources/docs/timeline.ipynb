{
 "cells": [
  {
   "cell_type": "markdown",
   "metadata": {},
   "source": [
    "# Timeline\n",
    "\n",
    "## 2021\n",
    "### 🍁  March\n",
    "---\n",
    "**[*Seminal Seminal of the siemic apart the things*](http://sdsawtelle.github.io/blog/output/index.html)**\n",
    "\n",
    "Authored a series of articles covering a wide variety of topics and tools related to pure Python programming, data science and statistics.\n",
    "<br>\n",
    "<br>\n",
    "\n",
    "---\n",
    "\n",
    "### 🌞  June\n",
    "---\n",
    "**[*Seminal Seminal of the siemic apart the things*](http://sdsawtelle.github.io/blog/output/index.html)**\n",
    "\n",
    "Authored a series of articles covering a wide variety of topics and tools related to pure Python programming, data science and statistics.\n",
    "<br>\n",
    "<br>\n",
    "\n",
    "---\n",
    "\n",
    "## 2020\n",
    "### 🌨  Febuary\n",
    "---\n",
    "**[*Seminal Seminal of the siemic apart the things*](http://sdsawtelle.github.io/blog/output/index.html)**\n",
    "\n",
    "Authored a series of articles covering a wide variety of topics and tools related to pure Python programming, data science and statistics.\n",
    "<br>\n",
    "<br>\n",
    "\n",
    "---\n",
    "\n",
    "### 🕶  August\n",
    "---\n",
    "**[*Seminal Seminal of the siemic apart the things*](http://sdsawtelle.github.io/blog/output/index.html)**\n",
    "\n",
    "Authored a series of articles covering a wide variety of topics and tools related to pure Python programming, data science and statistics.\n",
    "<br>\n",
    "<br>\n",
    "\n",
    "---"
   ]
  }
 ],
 "metadata": {
  "jupytext": {
   "text_representation": {
    "extension": ".md",
    "format_name": "myst"
   }
  },
  "kernelspec": {
   "display_name": "Python 3",
   "language": "python",
   "name": "python3"
  },
  "language_info": {
   "codemirror_mode": {
    "name": "ipython",
    "version": 3
   },
   "file_extension": ".py",
   "mimetype": "text/x-python",
   "name": "python",
   "nbconvert_exporter": "python",
   "pygments_lexer": "ipython3",
   "version": "3.7.9"
  },
  "source_map": [
   10
  ]
 },
 "nbformat": 4,
 "nbformat_minor": 4
}