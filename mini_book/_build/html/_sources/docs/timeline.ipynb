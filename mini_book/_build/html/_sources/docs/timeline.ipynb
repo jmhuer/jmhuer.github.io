{
 "cells": [
  {
   "cell_type": "markdown",
   "metadata": {},
   "source": [
    "# Timeline\n",
    "\n",
    "## **2020**\n",
    "### 🍁  March\n",
    "---\n",
    "`📤  Patent submitted` <br />\n",
    "**User embeddings of appliance usage data to analyze & predict appliance failure and user behavior**<br />\n",
    "* Authored a series of articles covering a wide variety of topics and tools related to pure Python programming, data science and statistics.\n",
    "<br>\n",
    "<br>\n",
    "\n",
    "---\n",
    "### 🌞  June\n",
    "---\n",
    "`👨🏾‍💻 Started new position at GE appliances` <br />\n",
    "**Artificial Intellifence Engineer**<br />\n",
    "* Authored a series of articles covering a wide variety of topics and tools related to pure Python programming, data science and statistics.\n",
    "<br>\n",
    "<br>\n",
    "\n",
    "---\n",
    "\n",
    "## **2019**\n",
    "### 🌞  June\n",
    "---\n",
    "`👨🏾‍💻 Started new position at GE appliances` <br />\n",
    "**Artificial Intellifence Engineer**<br />\n",
    "* Authored a series of articles covering a wide variety of topics and tools related to pure Python programming, data science and statistics.\n",
    "<br>\n",
    "<br>\n",
    "\n",
    "---\n",
    "\n",
    "### 🌦  March\n",
    "---\n",
    "`📱 Started new position (contrator role) at Modis` <br />\n",
    "**Software Engineer/ Machine learning**<br />\n",
    "* Authored a series of articles covering a wide variety of topics and tools related to pure Python programming, data science and statistics.\n",
    "<br>\n",
    "<br>\n",
    "\n",
    "\n",
    "---"
   ]
  }
 ],
 "metadata": {
  "jupytext": {
   "text_representation": {
    "extension": ".md",
    "format_name": "myst"
   }
  },
  "kernelspec": {
   "display_name": "Python 3",
   "language": "python",
   "name": "python3"
  },
  "language_info": {
   "codemirror_mode": {
    "name": "ipython",
    "version": 3
   },
   "file_extension": ".py",
   "mimetype": "text/x-python",
   "name": "python",
   "nbconvert_exporter": "python",
   "pygments_lexer": "ipython3",
   "version": "3.7.9"
  },
  "source_map": [
   10
  ]
 },
 "nbformat": 4,
 "nbformat_minor": 4
}