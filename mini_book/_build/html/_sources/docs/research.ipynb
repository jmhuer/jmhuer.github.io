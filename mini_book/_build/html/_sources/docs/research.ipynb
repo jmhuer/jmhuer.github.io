{
 "cells": [
  {
   "cell_type": "markdown",
   "metadata": {},
   "source": [
    "# Research\n",
    "\n",
    "## Research Experience \n",
    "\n",
    "**[*Generating Music by Continuous Neural Network Predictions of Binary Piano Roll Arrays*](http://sdsawtelle.github.io/blog/output/index.html)**\n",
    "<br>\n",
    "[Columbia University, Creative Machines Lab](https://github.com/jmhuer) ; Research Advisor  [Hod Lipson](https://github.com/jmhuer)\n",
    "<br>\n",
    "*May 2019 -- May 2020*\n",
    "\n",
    "- Authored a series of articles covering a wide variety of topics and tools related to pure Python programming, data science and statistics.\n",
    "<br>\n",
    "<br>\n",
    "\n",
    "**[*Generating Music by Continuous Neural Network Predictions of Binary Piano Roll Arrays*](http://sdsawtelle.github.io/blog/output/index.html)**\n",
    "<br>\n",
    "[Columbia University, Creative Machines Lab](https://github.com/jmhuer) ; Research Advisor  [Hod Lipson](https://github.com/jmhuer)\n",
    "<br>\n",
    "*May 2019 -- May 2020*\n",
    "\n",
    "- Authored a series of articles covering a wide variety of topics and tools related to pure Python programming, data science and statistics.\n",
    "<br>\n",
    "<br>\n",
    "\n",
    "\n",
    "**[*Generating Music by Continuous Neural Network Predictions of Binary Piano Roll Arrays*](http://sdsawtelle.github.io/blog/output/index.html)**\n",
    "<br>\n",
    "[Columbia University, Creative Machines Lab](https://github.com/jmhuer) ; Research Advisor  [Hod Lipson](https://github.com/jmhuer)\n",
    "<br>\n",
    "*May 2019 -- May 2020*\n",
    "\n",
    "- Authored a series of articles covering a wide variety of topics and tools related to pure Python programming, data science and statistics.\n",
    "<br>\n",
    "<br>\n",
    "\n",
    "\n",
    "\n",
    "## Active Projects\n",
    "**[*Generating Music by Continuous Neural Network Predictions of Binary Piano Roll Arrays*](http://sdsawtelle.github.io/blog/output/index.html)**\n",
    "<br>\n",
    "*Posted May 2020*\n",
    "\n",
    "- Authored a series of articles covering a wide variety of topics and tools related to pure Python programming, data science and statistics.\n",
    "<br>\n",
    "<br>\n",
    "\n",
    "**[*Generating Music by Continuous Neural Network Predictions of Binary Piano Roll Arrays*](http://sdsawtelle.github.io/blog/output/index.html)**\n",
    "<br>\n",
    "*Posted May 2020*\n",
    "\n",
    "- Authored a series of articles covering a wide variety of topics and tools related to pure Python programming, data science and statistics.\n",
    "<br>\n",
    "<br>\n",
    "\n",
    "**[*Generating Music by Continuous Neural Network Predictions of Binary Piano Roll Arrays*](http://sdsawtelle.github.io/blog/output/index.html)**\n",
    "<br>\n",
    "*Posted May 2020*\n",
    "\n",
    "- Authored a series of articles covering a wide variety of topics and tools related to pure Python programming, data science and statistics.\n",
    "<br>\n",
    "<br>\n",
    "<br>\n",
    "<br>\n",
    "<br>\n",
    "<br>\n",
    "\n",
    "\n",
    "\n",
    "> \\\"Nobody ever figures out what life is all about, and it doesn't matter. Explore the world. Nearly everything is really interesting if you go into it deeply enough\"  -- Richard P. Feynman"
   ]
  }
 ],
 "metadata": {
  "jupytext": {
   "text_representation": {
    "extension": ".md",
    "format_name": "myst"
   }
  },
  "kernelspec": {
   "display_name": "Python 3",
   "language": "python",
   "name": "python3"
  },
  "language_info": {
   "codemirror_mode": {
    "name": "ipython",
    "version": 3
   },
   "file_extension": ".py",
   "mimetype": "text/x-python",
   "name": "python",
   "nbconvert_exporter": "python",
   "pygments_lexer": "ipython3",
   "version": "3.7.9"
  },
  "source_map": [
   10
  ]
 },
 "nbformat": 4,
 "nbformat_minor": 4
}