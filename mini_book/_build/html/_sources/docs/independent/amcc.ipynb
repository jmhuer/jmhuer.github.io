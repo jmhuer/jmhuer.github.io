{
 "cells": [
  {
   "cell_type": "markdown",
   "metadata": {},
   "source": [
    "## Automatic Music Composition and Completion\n",
    "\n",
    " <sub> <a href=\"https://jmhuer.github.io/mini_book/_build/html/docs/portfolio.html\" style=\"color: red; text-decoration: underline;text-decoration-style: dotted;\">← Back to Porfolio</a> </sub>\n",
    "\n",
    "<img src=\"../../../../images/amcc.png\" align=\"center\"/>\n",
    "\n",
    "<br>\n",
    "\n",
    "we present a new symbolic approach to auto- matic music generation. First we create a dataset of 62 hours of Mozart music represented by binary piano roll arrays. The dataset is used to train a 1-hidden layer neural network to predict a section of music given the surrounding music. After training we will use our model to continu- ously predict and replace random sections of existing music completely altering the original into what we consider new music.\n",
    "<br>\n",
    "\n",
    "\n",
    "## Introduction\n",
    "---\n",
    "\n",
    "An SDP (Semidefinite Programming) is a superclass of LP (linear programming). Its called an SDP because the programs can\n",
    "\n",
    "There are many applications such as:\n",
    "\n",
    "-   Machine learning and data science\n",
    "-   Astronomy\n",
    "-   Artificial intelligence\n",
    "-   Chemistry\n",
    "-   Computational biology\n",
    "\n",
    "\n",
    "\n",
    "\n",
    "## Formal Defenition\n",
    "\n",
    "> **Semidefinite Programming (SDP)** has the form\n",
    ">\n",
    ">```{math}\n",
    ">\\begin{array}{ll}\n",
    ">\\operatorname{minimize} & C \\bullet X \\\\\n",
    ">\\text { s.t. } & A_{i} \\bullet X=b_{i} \\quad i=1, \\ldots, m \\\\\n",
    ">& X \\succeq 0\n",
    ">\\end{array}\n",
    ">```\n",
    ">```{math}\n",
    ">C \\bullet X:=\\sum_{i=1}^{n} \\sum_{j=1}^{n} C_{i j} X_{i j}\n",
    ">```\n",
    "\n",
    "\n",
    "\n",
    "\n",
    "## Method\n",
    "\n",
    "A linear program LP is a special instance of an SDP.\n",
    "This means the LP can be written as an SDP\n",
    "\n",
    "<img src=\"../../../../images/snn.png\" align=\"center\"/>"
   ]
  }
 ],
 "metadata": {
  "jupytext": {
   "text_representation": {
    "extension": ".md",
    "format_name": "myst"
   }
  },
  "kernelspec": {
   "display_name": "Python 3",
   "language": "python",
   "name": "python3"
  },
  "language_info": {
   "codemirror_mode": {
    "name": "ipython",
    "version": 3
   },
   "file_extension": ".py",
   "mimetype": "text/x-python",
   "name": "python",
   "nbconvert_exporter": "python",
   "pygments_lexer": "ipython3",
   "version": "3.7.9"
  },
  "source_map": [
   10
  ]
 },
 "nbformat": 4,
 "nbformat_minor": 4
}