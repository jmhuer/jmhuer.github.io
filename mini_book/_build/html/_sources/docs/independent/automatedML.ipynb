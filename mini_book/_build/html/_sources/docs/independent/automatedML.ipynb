{
 "cells": [
  {
   "cell_type": "markdown",
   "metadata": {},
   "source": [
    "##  Automated Machine Learning with SkLearn\n",
    "\n",
    " <sub> <a href=\"https://jmhuer.github.io/mini_book/_build/html/docs/portfolio.html\" style=\"color: red; text-decoration: underline;text-decoration-style: dotted;\">← Back to Projects</a> </sub>\n",
    "\n",
    "<img src=\"../../../../images/automatedml.png\" align=\"center\"/>\n",
    "\n",
    "<br>\n",
    "\n",
    " In this post Ill explain automated machine learning (AutoML); and provide an example for a simple classificatino tasks using various common algorithms in a frequentist and bayesian setting\n",
    "\n",
    "<br>\n",
    "\n",
    "\n",
    "## What is AutoML?\n",
    "---\n",
    "\n",
    "Automated Machine Learning (AutoML) is tied in with producing Machine Learning solutions for the data scientist without doing unlimited inquiries on data preparation, model selection, model hyperparameters, and model compression parameters.\n",
    "On top of that AutoML frameworks help the data scientist in:\n",
    "- Data visualization\n",
    "- Model intelligibility\n",
    "- Model deployment\n",
    "\n",
    "AutoML is viewed as about algorithm selection, hyperparameter tuning of models, iterative modeling, and model evaluation. It is about making Machine Learning tasks easier to use less code and avoid hyper tuning manually.\n",
    "\n",
    "<img src=\"../../../../images/automl.png\" align=\"center\" />\n",
    "\n",
    "<br>\n",
    "<br>\n",
    "\n",
    "## Random Search\n",
    "---\n",
    "\n",
    "The simplest way to think about hyper parameter optimization is to randomly try different combinations and pick the best setting\n",
    "\n",
    "<br>\n",
    "\n",
    "## Grid Search\n",
    "---\n",
    "\n",
    "Another approach is to iterate through a list of possible configurations. This is know as grid search"
   ]
  }
 ],
 "metadata": {
  "jupytext": {
   "text_representation": {
    "extension": ".md",
    "format_name": "myst"
   }
  },
  "kernelspec": {
   "display_name": "Python 3",
   "language": "python",
   "name": "python3"
  },
  "language_info": {
   "codemirror_mode": {
    "name": "ipython",
    "version": 3
   },
   "file_extension": ".py",
   "mimetype": "text/x-python",
   "name": "python",
   "nbconvert_exporter": "python",
   "pygments_lexer": "ipython3",
   "version": "3.7.9"
  },
  "source_map": [
   10
  ]
 },
 "nbformat": 4,
 "nbformat_minor": 4
}