{
 "cells": [
  {
   "cell_type": "markdown",
   "metadata": {},
   "source": [
    "# Sound Activity Recognition and Annomaly detection\n",
    "\n",
    " <sub> <a href=\"https://jmhuer.github.io/mini_book/_build/html/docs/portfolio.html\" style=\"color: red; text-decoration: underline;text-decoration-style: dotted;\">← Back to Projects</a> </sub>\n",
    "\n",
    "<img src=\"../../../../images/audio.png\" align=\"center\"/>\n",
    "\n",
    "<br>\n",
    "\n",
    " In this post I will explore a few approaches and applications of sound classification. We use both a standard appraoch using spectrograms + CNNs and a more sophisticated approach using transformers on spectrogram patches. We are testing two different methods:\n",
    " - Spectogram + CNN (pre-trained AlexNet). Here is the repository: https://github.com/jmhuer/specCNN_sound_classification\n",
    " - Spectogram + Transformer (16x16 image patches). Here is the repository: https://github.com/jmhuer/spectogram_transformer\n",
    "\n",
    "<br>\n",
    "\n",
    "## Activity Recognition with Spectrogram Transformer\n",
    "---\n",
    "\n",
    "In addition, we did a proof of concept of a system that can detect what kind of activities are going on in a room and change color of a light automatically\n",
    "\n",
    "<br>\n",
    " <div align=\"center\">   <iframe width=\"560\" height=\"315\"\n",
    "src=\"https://www.youtube.com/embed/snkbodqne9o\"\n",
    "frameborder=\"0\"\n",
    "allow=\"accelerometer; autoplay; encrypted-media; gyroscope; picture-in-picture\"\n",
    "allowfullscreen\n",
    "></iframe></div>\n",
    "\n",
    "<br>\n",
    "<br>\n",
    "\n",
    "## Laugh Detection + Philips Hue Bulb\n",
    "---\n",
    "\n",
    "Using AudioSet data we train a laugh detection sound classification and interpret the output for the laugh class as an intensity measure [0,1] to control the intensity of a philips hue bulb\n",
    "\n",
    "<br>\n",
    " <div align=\"center\">   <iframe width=\"560\" height=\"315\"\n",
    "src=\"https://www.youtube.com/embed/bOG9VGZbTj8\"\n",
    "frameborder=\"0\"\n",
    "allow=\"accelerometer; autoplay; encrypted-media; gyroscope; picture-in-picture\"\n",
    "allowfullscreen\n",
    "></iframe></div>\n",
    "\n",
    "<br>\n",
    "<br>\n",
    "\n",
    "## Service Diagnostics Running iOS CoreML\n",
    "---\n",
    "\n",
    "In addition, we did a proof of concept with the robot arm collaborating with a drone to\n",
    "deliver small food items to a nearby user\n",
    "There are many applications such as:\n",
    "\n",
    "<br>\n",
    " <div align=\"center\">   <iframe width=\"560\" height=\"315\"\n",
    "src=\"https://www.youtube.com/embed/eoMQt4muwW4\"\n",
    "frameborder=\"0\"\n",
    "allow=\"accelerometer; autoplay; encrypted-media; gyroscope; picture-in-picture\"\n",
    "allowfullscreen\n",
    "></iframe></div>\n",
    "\n",
    "\n",
    "\n",
    "<br>\n",
    "<br>"
   ]
  }
 ],
 "metadata": {
  "jupytext": {
   "text_representation": {
    "extension": ".md",
    "format_name": "myst"
   }
  },
  "kernelspec": {
   "display_name": "Python 3",
   "language": "python",
   "name": "python3"
  },
  "language_info": {
   "codemirror_mode": {
    "name": "ipython",
    "version": 3
   },
   "file_extension": ".py",
   "mimetype": "text/x-python",
   "name": "python",
   "nbconvert_exporter": "python",
   "pygments_lexer": "ipython3",
   "version": "3.7.9"
  },
  "source_map": [
   10
  ]
 },
 "nbformat": 4,
 "nbformat_minor": 4
}