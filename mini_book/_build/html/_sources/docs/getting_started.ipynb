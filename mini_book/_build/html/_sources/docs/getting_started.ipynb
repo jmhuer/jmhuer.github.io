{
 "cells": [
  {
   "cell_type": "markdown",
   "metadata": {},
   "source": [
    "(getting_started)=\n",
    "\n",
    "# Resume\n",
    "\n",
    "## Topics\n",
    "\n",
    "-   [machine learning and data science](http://scikit-learn.org/stable/)\n",
    "-   [astronomy](http://www.astropy.org/)\n",
    "-   [artificial intelligence](https://wiki.python.org/moin/PythonForArtificialIntelligence)\n",
    "-   [chemistry](http://chemlab.github.io/chemlab/)\n",
    "-   [computational biology](http://biopython.org/wiki/Main_Page)\n",
    "-   [meteorology](https://pypi.org/project/meteorology/)\n",
    "\n",
    "## Blog timeline\n",
    "\n",
    "🎵  **[*Generating Music by Continuous Neural Network Predictions of Binary Piano Roll Arrays*](https://jmhuer.github.io/data-science-blog/mini_book/_build/html/docs/clustering_algorithms.html)**\n",
    "<br>\n",
    "*Posted May 2020*\n",
    "\n",
    "- Authored a series of articles covering a wide variety of topics and tools related to pure Python programming, data science and statistics.\n",
    "<br>\n",
    "<br>\n",
    "\n",
    "🔎 **[*Generating Music by Continuous Neural Network Predictions of Binary Piano Roll Arrays*](http://sdsawtelle.github.io/blog/output/index.html)**\n",
    "<br>\n",
    "*Posted May 2020*\n",
    "\n",
    "- Authored a series of articles covering a wide variety of topics and tools related to pure Python programming, data science and statistics.\n",
    "<br>\n",
    "<br>\n",
    "\n",
    "👀 **[*Generating Music by Continuous Neural Network Predictions of Binary Piano Roll Arrays*](http://sdsawtelle.github.io/blog/output/index.html)**\n",
    "<br>\n",
    "*Posted May 2020*\n",
    "\n",
    "- Authored a series of articles covering a wide variety of topics and tools related to pure Python programming, data science and statistics.\n",
    "\n",
    "\n",
    "📷 **[*Generating Music by Continuous Neural Network Predictions of Binary Piano Roll Arrays*](http://sdsawtelle.github.io/blog/output/index.html)**\n",
    "<br>\n",
    "*Posted May 2020*\n",
    "\n",
    "- Authored a series of articles covering a wide variety of topics and tools related to pure Python programming, data science and statistics.\n",
    "<br>\n",
    "<br>\n",
    "\n",
    "📲 **[*Generating Music by Continuous Neural Network Predictions of Binary Piano Roll Arrays*](http://sdsawtelle.github.io/blog/output/index.html)**\n",
    "<br>\n",
    "*Posted May 2020*\n",
    "\n",
    "- Authored a series of articles covering a wide variety of topics and tools related to pure Python programming, data science and statistics."
   ]
  }
 ],
 "metadata": {
  "jupytext": {
   "text_representation": {
    "extension": ".md",
    "format_name": "myst"
   }
  },
  "kernelspec": {
   "display_name": "Python 3",
   "language": "python",
   "name": "python3"
  },
  "language_info": {
   "codemirror_mode": {
    "name": "ipython",
    "version": 3
   },
   "file_extension": ".py",
   "mimetype": "text/x-python",
   "name": "python",
   "nbconvert_exporter": "python",
   "pygments_lexer": "ipython3",
   "version": "3.7.9"
  },
  "source_map": [
   10
  ]
 },
 "nbformat": 4,
 "nbformat_minor": 4
}